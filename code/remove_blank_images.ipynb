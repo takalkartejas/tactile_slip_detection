{
 "cells": [
  {
   "cell_type": "code",
   "execution_count": 266,
   "metadata": {},
   "outputs": [],
   "source": [
    "import matplotlib.pyplot as plt\n",
    "import numpy as np\n",
    "from PIL import Image\n",
    "import os\n",
    "import re\n",
    "# Set the environment variable to use only the GPU with ID 1 (GTX 1080 Ti)\n",
    "os.environ[\"CUDA_VISIBLE_DEVICES\"] = \"1\"\n",
    "import cv2\n",
    "import os\n",
    "import PIL\n",
    "import csv\n",
    "# import tensorflow as tf\n",
    "\n",
    "# from tensorflow import keras\n",
    "# from tensorflow.keras import layers\n",
    "# from tensorflow.keras.models import Sequential \n",
    "import pandas as pd\n",
    "import numpy as np\n",
    "import pathlib"
   ]
  },
  {
   "cell_type": "code",
   "execution_count": 267,
   "metadata": {},
   "outputs": [
    {
     "data": {
      "text/plain": [
       "'/home/rag-tt/tactile5/tactile_images/5/0.jpg'"
      ]
     },
     "execution_count": 267,
     "metadata": {},
     "output_type": "execute_result"
    }
   ],
   "source": [
    "data_dir='/home/rag-tt/tactile5/tactile_images/'\n",
    "data_dir= pathlib.Path(data_dir)\n",
    "# Construct the absolute path to the image file\n",
    "image_path = os.path.join(data_dir, '5', '0.jpg')\n",
    "image_path"
   ]
  },
  {
   "cell_type": "code",
   "execution_count": 268,
   "metadata": {},
   "outputs": [
    {
     "name": "stdout",
     "output_type": "stream",
     "text": [
      "(480, 640, 3)\n"
     ]
    }
   ],
   "source": [
    "image = cv2.imread(image_path)\n",
    "print(image.shape)\n",
    "# plt.imshow(image)\n",
    "# plt.axis('off')  # Hide the axis\n",
    "# plt.show()"
   ]
  },
  {
   "cell_type": "code",
   "execution_count": 269,
   "metadata": {},
   "outputs": [],
   "source": [
    "def find_no_of_images(obj_id):\n",
    "    image_dir = os.path.join(data_dir, str(obj_id))\n",
    "    image_dir= pathlib.Path(image_dir)\n",
    "    no_of_images= len(list(image_dir.glob('*.jpg')))\n",
    "    return no_of_images"
   ]
  },
  {
   "cell_type": "code",
   "execution_count": 270,
   "metadata": {},
   "outputs": [
    {
     "data": {
      "text/plain": [
       "97"
      ]
     },
     "execution_count": 270,
     "metadata": {},
     "output_type": "execute_result"
    }
   ],
   "source": [
    "no_of_images= find_no_of_images(6)\n",
    "no_of_images"
   ]
  },
  {
   "cell_type": "code",
   "execution_count": 271,
   "metadata": {},
   "outputs": [],
   "source": [
    "def delete_images_and_labels(obj_id, img_ids):\n",
    "    for img_id in img_ids:\n",
    "        tactile_image_path = os.path.join(data_dir, str(obj_id), str(img_id)+ '.jpg')\n",
    "        depth_image_path = os.path.join(data_dir, str(obj_id),'depth'+ str(img_id)+ '.png')\n",
    "        # Check if the file exists\n",
    "        if os.path.exists(tactile_image_path) and os.path.exists(depth_image_path) :\n",
    "            # Delete the file\n",
    "            os.remove(tactile_image_path)\n",
    "            os.remove(depth_image_path)\n",
    "            print(f\"Image at\",tactile_image_path, \"has been deleted.\")\n",
    "            print(f\"Image at\",depth_image_path, \"has been deleted.\")\n",
    "        else:\n",
    "            print(f\"No file found at\",tactile_image_path, \"or\")\n",
    "            print(f\"No file found at\",depth_image_path)\n",
    "        csv_path = os.path.join(data_dir, str(obj_id),'slip_log.csv')\n",
    "        \n",
    "        \n",
    "        \n",
    "        # Read all rows from the CSV file\n",
    "        with open(csv_path, 'r', newline='') as csvfile:\n",
    "            reader = csv.reader(csvfile)\n",
    "            rows = list(reader)\n",
    "        \n",
    "        for index, row in enumerate(rows):\n",
    "            if row[0] == str(img_id):\n",
    "                line_number = index\n",
    "                break\n",
    "        \n",
    "        # Check if the line number is valid\n",
    "        if line_number is not None:\n",
    "            # Delete the specified line (0-indexed)\n",
    "            del rows[line_number]\n",
    "            \n",
    "            # Write the updated rows back to the CSV file\n",
    "            with open(csv_path, 'w', newline='') as csvfile:\n",
    "                writer = csv.writer(csvfile)\n",
    "                writer.writerows(rows)\n",
    "\n",
    "            print(f\"Deleted line with image_id {img_id} and saved the updated CSV.\")\n",
    "        else:\n",
    "            print(f\"Image ID {img_id} not found.\")"
   ]
  },
  {
   "cell_type": "code",
   "execution_count": 272,
   "metadata": {},
   "outputs": [],
   "source": [
    "def fill_image_sequence(folder_path):\n",
    "    files = os.listdir(folder_path)\n",
    "    # Filter files by the specified extension\n",
    "    tactile_images = [f for f in files if f.endswith('.jpg')]\n",
    "    tactile_images.sort(key=lambda f: int(re.search(r'\\d+', f).group()))\n",
    "    depth_images = [f for f in files if f.endswith('.png')]\n",
    "    depth_images.sort(key=lambda f: int(re.search(r'\\d+', f).group()))\n",
    "    \n",
    "    img_id = 0\n",
    "    for tactile_image, depth_image in zip(tactile_images,depth_images): \n",
    "        old_tactile_image_path = os.path.join(folder_path,tactile_image)\n",
    "        old_depth_image_path = os.path.join(folder_path,depth_image)\n",
    "        new_tactile_image_path = os.path.join(folder_path,str(img_id) + '.jpg')\n",
    "        new_depth_image_path = os.path.join(folder_path, 'depth'+str(img_id)+'.png')\n",
    "        os.rename(old_tactile_image_path, new_tactile_image_path)\n",
    "        os.rename(old_depth_image_path, new_depth_image_path)\n",
    "        img_id = img_id +1\n",
    "\n"
   ]
  },
  {
   "cell_type": "code",
   "execution_count": 273,
   "metadata": {},
   "outputs": [],
   "source": [
    "path = os.path.join(data_dir, str(33))\n",
    "fill_image_sequence(path)\n",
    "    "
   ]
  },
  {
   "cell_type": "code",
   "execution_count": 274,
   "metadata": {},
   "outputs": [],
   "source": [
    "\n",
    "def remove_blank_images(data_dir, no_of_samples = 60):\n",
    "    image_paths = []\n",
    "    \n",
    "    for obj_id in range(no_of_samples):\n",
    "        no_of_images = find_no_of_images(obj_id)\n",
    "        if no_of_images < 40:\n",
    "            continue\n",
    "        \n",
    "        csv_path = os.path.join(data_dir, str(obj_id),'slip_log.csv')\n",
    "        label = np.genfromtxt(csv_path, delimiter=',', skip_header=1, usecols=1, dtype=None, encoding=None)\n",
    "        previous_highest_pixel_value = 0\n",
    "        blank_image_ids = []\n",
    "        blank_image_spotted = 0\n",
    "        \n",
    "        \n",
    "        for img_id in range(no_of_images):\n",
    "            \n",
    "            # import the images as numpy arrays\n",
    "            tactile_image_path = os.path.join(data_dir, str(obj_id), str(img_id)+ '.jpg')\n",
    "            depth_image_path = os.path.join(data_dir, str(obj_id),'depth'+ str(img_id)+ '.png')\n",
    "            if not os.path.exists(tactile_image_path):\n",
    "                continue\n",
    "            image = Image.open(depth_image_path)\n",
    "            image_array = np.array(image)\n",
    "            \n",
    "            \n",
    "            # Find the maximum value in the array\n",
    "            current_highest_pixel_value = np.max(image_array)\n",
    "            \n",
    "            # delete the blank images based on the previous and next maximum values in array\n",
    "            # images with sudden unexpeted changes along with their labels will be deleted\n",
    "            if current_highest_pixel_value < 0.2*previous_highest_pixel_value:\n",
    "                blank_image_ids.append(img_id)\n",
    "                blank_image_spotted = 1\n",
    "            else:\n",
    "                if blank_image_spotted == 1:\n",
    "                    delete_blank_images(obj_id, blank_image_ids)\n",
    "                    blank_image_ids=[]\n",
    "                    blank_image_spotted =0\n",
    "                previous_highest_pixel_value = current_highest_pixel_value\n",
    "                \n",
    "        #rename the images to fill the gaps        \n",
    "        path = os.path.join(data_dir, str(obj_id))\n",
    "        fill_image_sequence(path)\n",
    "                \n",
    "  \n",
    "\n",
    "\n",
    "\n",
    "\n",
    "\n",
    "\n"
   ]
  },
  {
   "cell_type": "code",
   "execution_count": 275,
   "metadata": {},
   "outputs": [
    {
     "name": "stdout",
     "output_type": "stream",
     "text": [
      "Image at /home/rag-tt/tactile5/tactile_images/55/30.jpg has been deleted.\n",
      "Image at /home/rag-tt/tactile5/tactile_images/55/depth30.png has been deleted.\n",
      "/home/rag-tt/tactile5/tactile_images/55/slip_log.csv\n",
      "Deleted line 31 and saved the updated CSV.\n",
      "Image at /home/rag-tt/tactile5/tactile_images/55/72.jpg has been deleted.\n",
      "Image at /home/rag-tt/tactile5/tactile_images/55/depth72.png has been deleted.\n",
      "/home/rag-tt/tactile5/tactile_images/55/slip_log.csv\n",
      "Deleted line 73 and saved the updated CSV.\n",
      "Image at /home/rag-tt/tactile5/tactile_images/56/20.jpg has been deleted.\n",
      "Image at /home/rag-tt/tactile5/tactile_images/56/depth20.png has been deleted.\n",
      "/home/rag-tt/tactile5/tactile_images/56/slip_log.csv\n",
      "Deleted line 21 and saved the updated CSV.\n",
      "Image at /home/rag-tt/tactile5/tactile_images/56/75.jpg has been deleted.\n",
      "Image at /home/rag-tt/tactile5/tactile_images/56/depth75.png has been deleted.\n",
      "/home/rag-tt/tactile5/tactile_images/56/slip_log.csv\n",
      "Deleted line 76 and saved the updated CSV.\n",
      "Image at /home/rag-tt/tactile5/tactile_images/56/76.jpg has been deleted.\n",
      "Image at /home/rag-tt/tactile5/tactile_images/56/depth76.png has been deleted.\n",
      "/home/rag-tt/tactile5/tactile_images/56/slip_log.csv\n",
      "Deleted line 77 and saved the updated CSV.\n",
      "Image at /home/rag-tt/tactile5/tactile_images/57/64.jpg has been deleted.\n",
      "Image at /home/rag-tt/tactile5/tactile_images/57/depth64.png has been deleted.\n",
      "/home/rag-tt/tactile5/tactile_images/57/slip_log.csv\n",
      "Deleted line 65 and saved the updated CSV.\n",
      "Image at /home/rag-tt/tactile5/tactile_images/57/65.jpg has been deleted.\n",
      "Image at /home/rag-tt/tactile5/tactile_images/57/depth65.png has been deleted.\n",
      "/home/rag-tt/tactile5/tactile_images/57/slip_log.csv\n",
      "Deleted line 66 and saved the updated CSV.\n",
      "Image at /home/rag-tt/tactile5/tactile_images/57/66.jpg has been deleted.\n",
      "Image at /home/rag-tt/tactile5/tactile_images/57/depth66.png has been deleted.\n",
      "/home/rag-tt/tactile5/tactile_images/57/slip_log.csv\n",
      "Deleted line 67 and saved the updated CSV.\n",
      "Image at /home/rag-tt/tactile5/tactile_images/57/67.jpg has been deleted.\n",
      "Image at /home/rag-tt/tactile5/tactile_images/57/depth67.png has been deleted.\n",
      "/home/rag-tt/tactile5/tactile_images/57/slip_log.csv\n",
      "Deleted line 68 and saved the updated CSV.\n",
      "Image at /home/rag-tt/tactile5/tactile_images/57/68.jpg has been deleted.\n",
      "Image at /home/rag-tt/tactile5/tactile_images/57/depth68.png has been deleted.\n",
      "/home/rag-tt/tactile5/tactile_images/57/slip_log.csv\n",
      "Deleted line 69 and saved the updated CSV.\n",
      "Image at /home/rag-tt/tactile5/tactile_images/57/69.jpg has been deleted.\n",
      "Image at /home/rag-tt/tactile5/tactile_images/57/depth69.png has been deleted.\n",
      "/home/rag-tt/tactile5/tactile_images/57/slip_log.csv\n",
      "Deleted line 70 and saved the updated CSV.\n",
      "Image at /home/rag-tt/tactile5/tactile_images/57/70.jpg has been deleted.\n",
      "Image at /home/rag-tt/tactile5/tactile_images/57/depth70.png has been deleted.\n",
      "/home/rag-tt/tactile5/tactile_images/57/slip_log.csv\n",
      "Deleted line 71 and saved the updated CSV.\n",
      "Image at /home/rag-tt/tactile5/tactile_images/59/51.jpg has been deleted.\n",
      "Image at /home/rag-tt/tactile5/tactile_images/59/depth51.png has been deleted.\n",
      "/home/rag-tt/tactile5/tactile_images/59/slip_log.csv\n",
      "Deleted line 52 and saved the updated CSV.\n"
     ]
    }
   ],
   "source": [
    "remove_blank_images(data_dir)"
   ]
  }
 ],
 "metadata": {
  "kernelspec": {
   "display_name": "Python 3",
   "language": "python",
   "name": "python3"
  },
  "language_info": {
   "codemirror_mode": {
    "name": "ipython",
    "version": 3
   },
   "file_extension": ".py",
   "mimetype": "text/x-python",
   "name": "python",
   "nbconvert_exporter": "python",
   "pygments_lexer": "ipython3",
   "version": "3.8.10"
  }
 },
 "nbformat": 4,
 "nbformat_minor": 2
}
