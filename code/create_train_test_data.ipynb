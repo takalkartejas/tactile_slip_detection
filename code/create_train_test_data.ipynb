{
 "cells": [
  {
   "cell_type": "code",
   "execution_count": 1,
   "metadata": {},
   "outputs": [],
   "source": [
    "import os"
   ]
  },
  {
   "cell_type": "code",
   "execution_count": 2,
   "metadata": {},
   "outputs": [],
   "source": [
    "def count_subdirectories(directory):\n",
    "    try:\n",
    "        # List all entries in the directory\n",
    "        entries = os.listdir(directory)\n",
    "        \n",
    "        # Filter out the subdirectories\n",
    "        subdirectories = [entry for entry in entries if os.path.isdir(os.path.join(directory, entry))]\n",
    "        \n",
    "        # Count the subdirectories\n",
    "        num_subdirectories = len(subdirectories)\n",
    "        \n",
    "        print(f\"The directory '{directory}' contains {num_subdirectories} subdirectories.\")\n",
    "        \n",
    "    except FileNotFoundError:\n",
    "        print(f\"The directory '{directory}' does not exist.\")\n",
    "    except PermissionError:\n",
    "        print(f\"Permission denied: Unable to access '{directory}'.\")\n",
    "    except Exception as e:\n",
    "        print(f\"Error: {e}\")"
   ]
  },
  {
   "cell_type": "code",
   "execution_count": 3,
   "metadata": {},
   "outputs": [],
   "source": [
    "data_dir = '/home/rag-tt/'\n",
    "train_data_dir = os.path.join(data_dir,'train_data')\n",
    "test_data_dir = os.path.join(data_dir,'test_data')"
   ]
  },
  {
   "cell_type": "code",
   "execution_count": 4,
   "metadata": {},
   "outputs": [
    {
     "name": "stdout",
     "output_type": "stream",
     "text": [
      "The directory '/home/rag-tt/train_data' contains 0 subdirectories.\n",
      "train_data_qty= None\n",
      "The directory '/home/rag-tt/test_data' contains 0 subdirectories.\n",
      "test_data_qty= None\n"
     ]
    }
   ],
   "source": [
    "train_data_qty = count_subdirectories(train_data_dir)\n",
    "print('train_data_qty=', train_data_qty)\n",
    "test_data_qty = count_subdirectories(test_data_dir)\n",
    "print('test_data_qty=', test_data_qty)"
   ]
  }
 ],
 "metadata": {
  "kernelspec": {
   "display_name": "Python 3",
   "language": "python",
   "name": "python3"
  },
  "language_info": {
   "codemirror_mode": {
    "name": "ipython",
    "version": 3
   },
   "file_extension": ".py",
   "mimetype": "text/x-python",
   "name": "python",
   "nbconvert_exporter": "python",
   "pygments_lexer": "ipython3",
   "version": "3.8.10"
  }
 },
 "nbformat": 4,
 "nbformat_minor": 2
}
