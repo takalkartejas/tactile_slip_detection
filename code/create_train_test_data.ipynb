{
 "cells": [
  {
   "cell_type": "code",
   "execution_count": 69,
   "metadata": {},
   "outputs": [],
   "source": [
    "import os\n",
    "import shutil"
   ]
  },
  {
   "cell_type": "code",
   "execution_count": 70,
   "metadata": {},
   "outputs": [],
   "source": [
    "def count_subdirectories(directory):\n",
    "    try:\n",
    "        # List all entries in the directory\n",
    "        entries = os.listdir(directory)\n",
    "        \n",
    "        # Filter out the subdirectories\n",
    "        subdirectories = [entry for entry in entries if os.path.isdir(os.path.join(directory, entry))]\n",
    "        \n",
    "        # Count the subdirectories\n",
    "        num_subdirectories = len(subdirectories)\n",
    "        \n",
    "        print(f\"The directory '{directory}' contains {num_subdirectories} subdirectories.\")\n",
    "        \n",
    "    except FileNotFoundError:\n",
    "        print(f\"The directory '{directory}' does not exist.\")\n",
    "    except PermissionError:\n",
    "        print(f\"Permission denied: Unable to access '{directory}'.\")\n",
    "    except Exception as e:\n",
    "        print(f\"Error: {e}\")"
   ]
  },
  {
   "cell_type": "code",
   "execution_count": 71,
   "metadata": {},
   "outputs": [],
   "source": [
    "def create_directory(directory_name):\n",
    "    try:\n",
    "        os.mkdir(directory_name)\n",
    "        print(f\"Directory '{directory_name}' created successfully.\")\n",
    "    except FileExistsError:\n",
    "        print(f\"Directory '{directory_name}' already exists.\")\n",
    "    except Exception as e:\n",
    "        print(f\"An error occurred: {e}\")"
   ]
  },
  {
   "cell_type": "code",
   "execution_count": 72,
   "metadata": {},
   "outputs": [],
   "source": [
    "def move_folder(source_dir,destination_dir):\n",
    "    try:\n",
    "        # Move the directory and its contents\n",
    "        shutil.move(source_dir, destination_dir)\n",
    "    except FileNotFoundError:\n",
    "        print(f\"Error: Directory '{source_dir}' not found.\")\n",
    "    except shutil.Error as e:\n",
    "        print(f\"Error: {e}\")"
   ]
  },
  {
   "cell_type": "code",
   "execution_count": 73,
   "metadata": {},
   "outputs": [],
   "source": [
    "def fill_gaps_in_sequence(directory):\n",
    "    try:\n",
    "        # List all entries in the directory\n",
    "        entries = os.listdir(directory)\n",
    "        \n",
    "        # Filter out the subdirectories and sort them numerically\n",
    "        subdirectories = sorted([entry for entry in entries if os.path.isdir(os.path.join(directory, entry)) and entry.isdigit()], key=int)\n",
    "        \n",
    "        expected_number = 0\n",
    "        \n",
    "        for subdir in subdirectories:\n",
    "            subdir_path = os.path.join(directory, subdir)\n",
    "            expected_subdir_path = os.path.join(directory, str(expected_number))\n",
    "            \n",
    "            if subdir_path != expected_subdir_path:\n",
    "                os.rename(subdir_path, expected_subdir_path)\n",
    "            \n",
    "            expected_number += 1\n",
    "        \n",
    "        print(\"Renaming completed successfully.\")\n",
    "        \n",
    "    except FileNotFoundError:\n",
    "        print(f\"The directory '{directory}' does not exist.\")\n",
    "    except PermissionError:\n",
    "        print(f\"Permission denied: Unable to access '{directory}'.\")\n",
    "    except Exception as e:\n",
    "        print(f\"Error: {e}\")\n",
    "\n"
   ]
  },
  {
   "cell_type": "markdown",
   "metadata": {},
   "source": [
    "Create the required directories"
   ]
  },
  {
   "cell_type": "code",
   "execution_count": 74,
   "metadata": {},
   "outputs": [],
   "source": [
    "data_dir = '/home/rag-tt/'\n",
    "train_data_dir = os.path.join(data_dir,'train_data')\n",
    "test_data_dir = os.path.join(data_dir,'test_data')\n",
    "source_data_dir = os.path.join(data_dir,'tactile5')\n",
    "tactile_images_dir =  os.path.join(source_data_dir,'tactile_images')\n",
    "temp_train_data_dir = os.path.join(source_data_dir,'train_data')\n",
    "temp_test_data_dir = os.path.join(source_data_dir,'test_data')"
   ]
  },
  {
   "cell_type": "markdown",
   "metadata": {},
   "source": [
    "check number of data already present in the train and test dataset to append the new data afterwards"
   ]
  },
  {
   "cell_type": "code",
   "execution_count": 75,
   "metadata": {},
   "outputs": [
    {
     "name": "stdout",
     "output_type": "stream",
     "text": [
      "The directory '/home/rag-tt/train_data' contains 0 subdirectories.\n",
      "train_data_qty= None\n",
      "The directory '/home/rag-tt/test_data' contains 0 subdirectories.\n",
      "test_data_qty= None\n"
     ]
    }
   ],
   "source": [
    "train_data_qty = count_subdirectories(train_data_dir)\n",
    "print('train_data_qty=', train_data_qty)\n",
    "test_data_qty = count_subdirectories(test_data_dir)\n",
    "print('test_data_qty=', test_data_qty)"
   ]
  },
  {
   "cell_type": "markdown",
   "metadata": {},
   "source": [
    "split the data as per the ratio\n",
    "Note that the split is being done according to obj_id instead of actual amout of data\n",
    "this done so that the same objects from different data set ends up in test_set\n",
    "The above method ensures that the test set is never seen by the model"
   ]
  },
  {
   "cell_type": "code",
   "execution_count": 76,
   "metadata": {},
   "outputs": [
    {
     "name": "stdout",
     "output_type": "stream",
     "text": [
      "train_data [0, 1, 2, 3, 4, 5, 6, 7, 8, 9, 10, 11, 12, 13, 14, 15, 16, 17, 18, 19, 20, 21, 22, 23, 24, 25, 26, 27, 28, 29, 30, 31, 32, 33, 34, 35, 36, 37, 38, 39, 40, 41, 42, 43, 44, 45, 46, 47, 48, 49, 50, 51, 52, 53, 54, 55, 56, 57, 58, 59, 60, 61, 62, 63, 64, 65, 66, 67, 68, 69, 70, 71, 72, 73, 74, 75, 76, 77, 78, 79, 80, 81, 82, 83, 84, 85, 86, 87, 88, 89]\n",
      "test_data [90, 91, 92, 93, 94, 95, 96, 97, 98, 99]\n"
     ]
    }
   ],
   "source": [
    "data_size = 100\n",
    "split_ratio = 0.9\n",
    "train_size = round(data_size*(split_ratio))\n",
    "train_data_list = []\n",
    "test_data_list = []\n",
    "for i in range(train_size):\n",
    "    train_data_list.append(i)\n",
    "for i in range(train_size,data_size):\n",
    "    test_data_list.append(i)\n",
    "    \n",
    "print('train_data',train_data_list)\n",
    "print('test_data',test_data_list)"
   ]
  },
  {
   "cell_type": "markdown",
   "metadata": {},
   "source": [
    "Move the data to temporary train and test folders"
   ]
  },
  {
   "cell_type": "code",
   "execution_count": 77,
   "metadata": {},
   "outputs": [
    {
     "name": "stdout",
     "output_type": "stream",
     "text": [
      "Directory '/home/rag-tt/tactile5/train_data' already exists.\n",
      "Directory '/home/rag-tt/tactile5/test_data' already exists.\n"
     ]
    }
   ],
   "source": [
    "create_directory(temp_train_data_dir)\n",
    "create_directory(temp_test_data_dir)"
   ]
  },
  {
   "cell_type": "code",
   "execution_count": 78,
   "metadata": {},
   "outputs": [],
   "source": [
    "for obj_id in train_data_list:\n",
    "    obj_dir = os.path.join(tactile_images_dir, str(obj_id))\n",
    "    destination_dir = os.path.join(temp_train_data_dir, str(obj_id))\n",
    "    if not os.path.exists(obj_dir):\n",
    "        continue\n",
    "    move_folder(obj_dir,destination_dir)\n",
    "    \n",
    "for obj_id in test_data_list:\n",
    "    obj_dir = os.path.join(tactile_images_dir, str(obj_id))\n",
    "    destination_dir = os.path.join(temp_test_data_dir, str(obj_id))\n",
    "    if not os.path.exists(obj_dir):\n",
    "        continue\n",
    "    move_folder(obj_dir,destination_dir)"
   ]
  },
  {
   "cell_type": "markdown",
   "metadata": {},
   "source": [
    "Unnecessary data was deleted in last step of data processing\n",
    "We fill the missing data by renaming data in this step"
   ]
  },
  {
   "cell_type": "code",
   "execution_count": 79,
   "metadata": {},
   "outputs": [
    {
     "name": "stdout",
     "output_type": "stream",
     "text": [
      "Renamed '/home/rag-tt/tactile5/train_data/2' to '/home/rag-tt/tactile5/train_data/0'\n",
      "Renamed '/home/rag-tt/tactile5/train_data/3' to '/home/rag-tt/tactile5/train_data/1'\n",
      "Renamed '/home/rag-tt/tactile5/train_data/4' to '/home/rag-tt/tactile5/train_data/2'\n",
      "Renamed '/home/rag-tt/tactile5/train_data/5' to '/home/rag-tt/tactile5/train_data/3'\n",
      "Renamed '/home/rag-tt/tactile5/train_data/6' to '/home/rag-tt/tactile5/train_data/4'\n",
      "Renamed '/home/rag-tt/tactile5/train_data/7' to '/home/rag-tt/tactile5/train_data/5'\n",
      "Renamed '/home/rag-tt/tactile5/train_data/8' to '/home/rag-tt/tactile5/train_data/6'\n",
      "Renamed '/home/rag-tt/tactile5/train_data/9' to '/home/rag-tt/tactile5/train_data/7'\n",
      "Renamed '/home/rag-tt/tactile5/train_data/10' to '/home/rag-tt/tactile5/train_data/8'\n",
      "Renamed '/home/rag-tt/tactile5/train_data/11' to '/home/rag-tt/tactile5/train_data/9'\n",
      "Renamed '/home/rag-tt/tactile5/train_data/12' to '/home/rag-tt/tactile5/train_data/10'\n",
      "Renamed '/home/rag-tt/tactile5/train_data/13' to '/home/rag-tt/tactile5/train_data/11'\n",
      "Renamed '/home/rag-tt/tactile5/train_data/14' to '/home/rag-tt/tactile5/train_data/12'\n",
      "Renamed '/home/rag-tt/tactile5/train_data/15' to '/home/rag-tt/tactile5/train_data/13'\n",
      "Renamed '/home/rag-tt/tactile5/train_data/16' to '/home/rag-tt/tactile5/train_data/14'\n",
      "Renamed '/home/rag-tt/tactile5/train_data/17' to '/home/rag-tt/tactile5/train_data/15'\n",
      "Renamed '/home/rag-tt/tactile5/train_data/19' to '/home/rag-tt/tactile5/train_data/16'\n",
      "Renamed '/home/rag-tt/tactile5/train_data/20' to '/home/rag-tt/tactile5/train_data/17'\n",
      "Renamed '/home/rag-tt/tactile5/train_data/21' to '/home/rag-tt/tactile5/train_data/18'\n",
      "Renamed '/home/rag-tt/tactile5/train_data/22' to '/home/rag-tt/tactile5/train_data/19'\n",
      "Renamed '/home/rag-tt/tactile5/train_data/23' to '/home/rag-tt/tactile5/train_data/20'\n",
      "Renamed '/home/rag-tt/tactile5/train_data/24' to '/home/rag-tt/tactile5/train_data/21'\n",
      "Renamed '/home/rag-tt/tactile5/train_data/25' to '/home/rag-tt/tactile5/train_data/22'\n",
      "Renamed '/home/rag-tt/tactile5/train_data/26' to '/home/rag-tt/tactile5/train_data/23'\n",
      "Renamed '/home/rag-tt/tactile5/train_data/27' to '/home/rag-tt/tactile5/train_data/24'\n",
      "Renamed '/home/rag-tt/tactile5/train_data/28' to '/home/rag-tt/tactile5/train_data/25'\n",
      "Renamed '/home/rag-tt/tactile5/train_data/29' to '/home/rag-tt/tactile5/train_data/26'\n",
      "Renamed '/home/rag-tt/tactile5/train_data/30' to '/home/rag-tt/tactile5/train_data/27'\n",
      "Renamed '/home/rag-tt/tactile5/train_data/31' to '/home/rag-tt/tactile5/train_data/28'\n",
      "Renamed '/home/rag-tt/tactile5/train_data/32' to '/home/rag-tt/tactile5/train_data/29'\n",
      "Renamed '/home/rag-tt/tactile5/train_data/33' to '/home/rag-tt/tactile5/train_data/30'\n",
      "Renamed '/home/rag-tt/tactile5/train_data/34' to '/home/rag-tt/tactile5/train_data/31'\n",
      "Renamed '/home/rag-tt/tactile5/train_data/35' to '/home/rag-tt/tactile5/train_data/32'\n",
      "Renamed '/home/rag-tt/tactile5/train_data/36' to '/home/rag-tt/tactile5/train_data/33'\n",
      "Renamed '/home/rag-tt/tactile5/train_data/37' to '/home/rag-tt/tactile5/train_data/34'\n",
      "Renamed '/home/rag-tt/tactile5/train_data/38' to '/home/rag-tt/tactile5/train_data/35'\n",
      "Renamed '/home/rag-tt/tactile5/train_data/39' to '/home/rag-tt/tactile5/train_data/36'\n",
      "Renamed '/home/rag-tt/tactile5/train_data/40' to '/home/rag-tt/tactile5/train_data/37'\n",
      "Renamed '/home/rag-tt/tactile5/train_data/41' to '/home/rag-tt/tactile5/train_data/38'\n",
      "Renamed '/home/rag-tt/tactile5/train_data/42' to '/home/rag-tt/tactile5/train_data/39'\n",
      "Renamed '/home/rag-tt/tactile5/train_data/43' to '/home/rag-tt/tactile5/train_data/40'\n",
      "Renamed '/home/rag-tt/tactile5/train_data/44' to '/home/rag-tt/tactile5/train_data/41'\n",
      "Renamed '/home/rag-tt/tactile5/train_data/45' to '/home/rag-tt/tactile5/train_data/42'\n",
      "Renamed '/home/rag-tt/tactile5/train_data/46' to '/home/rag-tt/tactile5/train_data/43'\n",
      "Renamed '/home/rag-tt/tactile5/train_data/47' to '/home/rag-tt/tactile5/train_data/44'\n",
      "Renamed '/home/rag-tt/tactile5/train_data/48' to '/home/rag-tt/tactile5/train_data/45'\n",
      "Renamed '/home/rag-tt/tactile5/train_data/49' to '/home/rag-tt/tactile5/train_data/46'\n",
      "Renamed '/home/rag-tt/tactile5/train_data/50' to '/home/rag-tt/tactile5/train_data/47'\n",
      "Renamed '/home/rag-tt/tactile5/train_data/51' to '/home/rag-tt/tactile5/train_data/48'\n",
      "Renamed '/home/rag-tt/tactile5/train_data/52' to '/home/rag-tt/tactile5/train_data/49'\n",
      "Renamed '/home/rag-tt/tactile5/train_data/53' to '/home/rag-tt/tactile5/train_data/50'\n",
      "Renamed '/home/rag-tt/tactile5/train_data/54' to '/home/rag-tt/tactile5/train_data/51'\n",
      "Renamed '/home/rag-tt/tactile5/train_data/55' to '/home/rag-tt/tactile5/train_data/52'\n",
      "Renamed '/home/rag-tt/tactile5/train_data/56' to '/home/rag-tt/tactile5/train_data/53'\n",
      "Renamed '/home/rag-tt/tactile5/train_data/57' to '/home/rag-tt/tactile5/train_data/54'\n",
      "Renamed '/home/rag-tt/tactile5/train_data/58' to '/home/rag-tt/tactile5/train_data/55'\n",
      "Renamed '/home/rag-tt/tactile5/train_data/59' to '/home/rag-tt/tactile5/train_data/56'\n",
      "Renamed '/home/rag-tt/tactile5/train_data/60' to '/home/rag-tt/tactile5/train_data/57'\n",
      "Renamed '/home/rag-tt/tactile5/train_data/61' to '/home/rag-tt/tactile5/train_data/58'\n",
      "Renamed '/home/rag-tt/tactile5/train_data/62' to '/home/rag-tt/tactile5/train_data/59'\n",
      "Renamed '/home/rag-tt/tactile5/train_data/63' to '/home/rag-tt/tactile5/train_data/60'\n",
      "Renamed '/home/rag-tt/tactile5/train_data/64' to '/home/rag-tt/tactile5/train_data/61'\n",
      "Renamed '/home/rag-tt/tactile5/train_data/65' to '/home/rag-tt/tactile5/train_data/62'\n",
      "Renamed '/home/rag-tt/tactile5/train_data/66' to '/home/rag-tt/tactile5/train_data/63'\n",
      "Renamed '/home/rag-tt/tactile5/train_data/67' to '/home/rag-tt/tactile5/train_data/64'\n",
      "Renamed '/home/rag-tt/tactile5/train_data/68' to '/home/rag-tt/tactile5/train_data/65'\n",
      "Renamed '/home/rag-tt/tactile5/train_data/69' to '/home/rag-tt/tactile5/train_data/66'\n",
      "Renamed '/home/rag-tt/tactile5/train_data/70' to '/home/rag-tt/tactile5/train_data/67'\n",
      "Renamed '/home/rag-tt/tactile5/train_data/71' to '/home/rag-tt/tactile5/train_data/68'\n",
      "Renamed '/home/rag-tt/tactile5/train_data/72' to '/home/rag-tt/tactile5/train_data/69'\n",
      "Renamed '/home/rag-tt/tactile5/train_data/73' to '/home/rag-tt/tactile5/train_data/70'\n",
      "Renamed '/home/rag-tt/tactile5/train_data/74' to '/home/rag-tt/tactile5/train_data/71'\n",
      "Renamed '/home/rag-tt/tactile5/train_data/75' to '/home/rag-tt/tactile5/train_data/72'\n",
      "Renamed '/home/rag-tt/tactile5/train_data/76' to '/home/rag-tt/tactile5/train_data/73'\n",
      "Renamed '/home/rag-tt/tactile5/train_data/77' to '/home/rag-tt/tactile5/train_data/74'\n",
      "Renamed '/home/rag-tt/tactile5/train_data/78' to '/home/rag-tt/tactile5/train_data/75'\n",
      "Renamed '/home/rag-tt/tactile5/train_data/79' to '/home/rag-tt/tactile5/train_data/76'\n",
      "Renamed '/home/rag-tt/tactile5/train_data/80' to '/home/rag-tt/tactile5/train_data/77'\n",
      "Renamed '/home/rag-tt/tactile5/train_data/81' to '/home/rag-tt/tactile5/train_data/78'\n",
      "Renamed '/home/rag-tt/tactile5/train_data/82' to '/home/rag-tt/tactile5/train_data/79'\n",
      "Renamed '/home/rag-tt/tactile5/train_data/83' to '/home/rag-tt/tactile5/train_data/80'\n",
      "Renamed '/home/rag-tt/tactile5/train_data/84' to '/home/rag-tt/tactile5/train_data/81'\n",
      "Renamed '/home/rag-tt/tactile5/train_data/85' to '/home/rag-tt/tactile5/train_data/82'\n",
      "Renamed '/home/rag-tt/tactile5/train_data/86' to '/home/rag-tt/tactile5/train_data/83'\n",
      "Renamed '/home/rag-tt/tactile5/train_data/87' to '/home/rag-tt/tactile5/train_data/84'\n",
      "Renamed '/home/rag-tt/tactile5/train_data/88' to '/home/rag-tt/tactile5/train_data/85'\n",
      "Renamed '/home/rag-tt/tactile5/train_data/89' to '/home/rag-tt/tactile5/train_data/86'\n",
      "Renaming completed successfully.\n",
      "Renamed '/home/rag-tt/tactile5/test_data/90' to '/home/rag-tt/tactile5/test_data/0'\n",
      "Renamed '/home/rag-tt/tactile5/test_data/91' to '/home/rag-tt/tactile5/test_data/1'\n",
      "Renamed '/home/rag-tt/tactile5/test_data/92' to '/home/rag-tt/tactile5/test_data/2'\n",
      "Renamed '/home/rag-tt/tactile5/test_data/93' to '/home/rag-tt/tactile5/test_data/3'\n",
      "Renamed '/home/rag-tt/tactile5/test_data/94' to '/home/rag-tt/tactile5/test_data/4'\n",
      "Renamed '/home/rag-tt/tactile5/test_data/95' to '/home/rag-tt/tactile5/test_data/5'\n",
      "Renamed '/home/rag-tt/tactile5/test_data/96' to '/home/rag-tt/tactile5/test_data/6'\n",
      "Renamed '/home/rag-tt/tactile5/test_data/97' to '/home/rag-tt/tactile5/test_data/7'\n",
      "Renamed '/home/rag-tt/tactile5/test_data/98' to '/home/rag-tt/tactile5/test_data/8'\n",
      "Renamed '/home/rag-tt/tactile5/test_data/99' to '/home/rag-tt/tactile5/test_data/9'\n",
      "Renaming completed successfully.\n"
     ]
    }
   ],
   "source": [
    "fill_gaps_in_sequence(temp_train_data_dir)\n",
    "fill_gaps_in_sequence(temp_test_data_dir)"
   ]
  }
 ],
 "metadata": {
  "kernelspec": {
   "display_name": "Python 3",
   "language": "python",
   "name": "python3"
  },
  "language_info": {
   "codemirror_mode": {
    "name": "ipython",
    "version": 3
   },
   "file_extension": ".py",
   "mimetype": "text/x-python",
   "name": "python",
   "nbconvert_exporter": "python",
   "pygments_lexer": "ipython3",
   "version": "3.8.10"
  }
 },
 "nbformat": 4,
 "nbformat_minor": 2
}
